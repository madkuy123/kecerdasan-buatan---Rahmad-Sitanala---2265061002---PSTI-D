{
 "cells": [
  {
   "cell_type": "code",
   "execution_count": 5,
   "metadata": {},
   "outputs": [
    {
     "name": "stdout",
     "output_type": "stream",
     "text": [
      "['A', 'H', 'D', 'E']\n"
     ]
    }
   ],
   "source": [
    "peta = {'A': set(['B', 'H']),\n",
    "        'B': set(['A', 'C', 'H']),\n",
    "        'C': set(['B', 'D', 'E']), \n",
    "        'D': set(['C', 'E', 'F', 'G', 'H']),\n",
    "        'E': set(['C', 'D']),\n",
    "        'F': set(['D', 'G']),\n",
    "        'G': set(['F', 'D', 'H']),\n",
    "        'H': set(['A', 'B', 'D', 'G']),}\n",
    "\n",
    "def bfs_lintasan_terpendek(pet, mulai, tujuan):\n",
    "    explored = []\n",
    "    queue = [[mulai]]\n",
    "    \n",
    "    if mulai == tujuan: \n",
    "        return \"awal adalah tujuan\"\n",
    "    \n",
    "    while queue: \n",
    "        jalur = queue.pop(0)\n",
    "        node = jalur[-1]\n",
    "        \n",
    "        if node not in explored: \n",
    "            neighbours = peta.get(node, [])  # Menggunakan get() untuk mengembalikan list kosong jika node tidak ditemukan\n",
    "            for neighbour in neighbours: \n",
    "                jalur_baru = list(jalur)\n",
    "                jalur_baru.append(neighbour)\n",
    "                queue.append(jalur_baru)\n",
    "                \n",
    "                if neighbour == tujuan:\n",
    "                    return jalur_baru\n",
    "            \n",
    "            explored.append(node)\n",
    "        \n",
    "    return \"Mohon maaf, node yang Anda pilih tidak ada.\"\n",
    "\n",
    "mulai  = input(\"Masukkan awal  :  \")\n",
    "tujuan = input(\"Masukkan akhir :  \")\n",
    "\n",
    "if mulai and tujuan:  # Memeriksa apakah kedua input tidak kosong\n",
    "    print(bfs_lintasan_terpendek(peta, mulai, tujuan))\n",
    "else:\n",
    "    print(\"Input tidak boleh kosong. Mohon masukkan input yang valid.\")\n"
   ]
  }
 ],
 "metadata": {
  "kernelspec": {
   "display_name": "base",
   "language": "python",
   "name": "python3"
  },
  "language_info": {
   "codemirror_mode": {
    "name": "ipython",
    "version": 3
   },
   "file_extension": ".py",
   "mimetype": "text/x-python",
   "name": "python",
   "nbconvert_exporter": "python",
   "pygments_lexer": "ipython3",
   "version": "3.11.9"
  }
 },
 "nbformat": 4,
 "nbformat_minor": 2
}
